{
 "cells": [
  {
   "cell_type": "markdown",
   "metadata": {},
   "source": [
    "## Reading Data Values"
   ]
  },
  {
   "cell_type": "code",
   "execution_count": 8,
   "metadata": {},
   "outputs": [],
   "source": [
    "import json\n",
    "fd = open(\"Inventory.json\",'r')\n",
    "r = fd.read()\n",
    "fd.close()\n",
    "\n",
    "inv = json.loads(r)"
   ]
  },
  {
   "cell_type": "code",
   "execution_count": 9,
   "metadata": {},
   "outputs": [
    {
     "data": {
      "text/plain": [
       "{'101': {'Name': 'Bread',\n",
       "  'Price': 40,\n",
       "  'Quantity': 50,\n",
       "  'Category': 'Bakery',\n",
       "  'Product Popularity': 9},\n",
       " '102': {'Name': 'Cheese',\n",
       "  'Price': 200,\n",
       "  'Quantity': 20,\n",
       "  'Category': 'Dairy',\n",
       "  'Product Popularity': 8},\n",
       " '103': {'Name': 'Yogurt',\n",
       "  'Price': 60,\n",
       "  'Quantity': 20,\n",
       "  'Category': 'Dairy',\n",
       "  'Product Popularity': 9},\n",
       " '104': {'Name': 'Milkshake',\n",
       "  'Price': 30,\n",
       "  'Quantity': 30,\n",
       "  'Category': 'Dairy',\n",
       "  'Product Popularity': 9},\n",
       " '105': {'Name': 'Bath Soap',\n",
       "  'Price': 20,\n",
       "  'Quantity': 80,\n",
       "  'Category': 'Toiletries',\n",
       "  'Product Popularity': 10},\n",
       " '106': {'Name': 'Shampoo',\n",
       "  'Price': 300,\n",
       "  'Quantity': 25,\n",
       "  'Category': 'Toiletries',\n",
       "  'Product Popularity': 10},\n",
       " '107': {'Name': 'Conditioner',\n",
       "  'Price': 350,\n",
       "  'Quantity': 20,\n",
       "  'Category': 'Toiletries',\n",
       "  'Product Popularity': 8},\n",
       " '108': {'Name': 'Hair oil',\n",
       "  'Price': 60,\n",
       "  'Quantity': 30,\n",
       "  'Category': 'Toiletries',\n",
       "  'Product Popularity': 7},\n",
       " '109': {'Name': 'Tooth-brush',\n",
       "  'Price': 40,\n",
       "  'Quantity': 40,\n",
       "  'Category': 'Toiletries',\n",
       "  'Product Popularity': 10},\n",
       " '110': {'Name': 'Tooth-paste',\n",
       "  'Price': 100,\n",
       "  'Quantity': 30,\n",
       "  'Category': 'Toiletries',\n",
       "  'Product Popularity': 10},\n",
       " '111': {'Name': 'Biscuits',\n",
       "  'Price': 30,\n",
       "  'Quantity': 50,\n",
       "  'Category': 'Bakery',\n",
       "  'Product Popularity': 8},\n",
       " '112': {'Name': 'Maggi',\n",
       "  'Price': 60,\n",
       "  'Quantity': 30,\n",
       "  'Category': 'Eatable',\n",
       "  'Product Popularity': 8},\n",
       " '113': {'Name': 'Penne Pasta',\n",
       "  'Price': 100,\n",
       "  'Quantity': 15,\n",
       "  'Category': 'Eatable',\n",
       "  'Product Popularity': 8},\n",
       " '114': {'Name': 'Fusilli Pasta',\n",
       "  'Price': 100,\n",
       "  'Quantity': 15,\n",
       "  'Category': 'Eatable',\n",
       "  'Product Popularity': 7},\n",
       " '115': {'Name': 'Penne Pasta',\n",
       "  'Price': 100,\n",
       "  'Quantity': 15,\n",
       "  'Category': 'Eatable',\n",
       "  'Product Popularity': 8},\n",
       " '116': {'Name': 'Ketchup',\n",
       "  'Price': 84,\n",
       "  'Quantity': 40,\n",
       "  'Category': 'Eatable',\n",
       "  'Product Popularity': 9},\n",
       " '117': {'Name': 'Popcorn',\n",
       "  'Price': 40,\n",
       "  'Quantity': 25,\n",
       "  'Category': 'Eatable',\n",
       "  'Product Popularity': 7},\n",
       " '118': {'Name': 'Dairy Milk',\n",
       "  'Price': 20,\n",
       "  'Quantity': 40,\n",
       "  'Category': 'Chocolate',\n",
       "  'Product Popularity': 8},\n",
       " '119': {'Name': 'Dairy Milk Silk',\n",
       "  'Price': 80,\n",
       "  'Quantity': 10,\n",
       "  'Category': 'Chocolate',\n",
       "  'Product Popularity': 8},\n",
       " '120': {'Name': '5 star',\n",
       "  'Price': 10,\n",
       "  'Quantity': 40,\n",
       "  'Category': 'Chocolate',\n",
       "  'Product Popularity': 7},\n",
       " '121': {'Name': 'Notebook',\n",
       "  'Price': 60,\n",
       "  'Quantity': 15,\n",
       "  'Category': 'Stationary',\n",
       "  'Product Popularity': 7},\n",
       " '122': {'Name': 'Pen',\n",
       "  'Price': 10,\n",
       "  'Quantity': 30,\n",
       "  'Category': 'Stationary',\n",
       "  'Product Popularity': 8},\n",
       " '123': {'Name': 'Atta',\n",
       "  'Price': 320,\n",
       "  'Quantity': 40,\n",
       "  'Category': 'Ration',\n",
       "  'Product Popularity': 10},\n",
       " '124': {'Name': 'Maida',\n",
       "  'Price': 60,\n",
       "  'Quantity': 40,\n",
       "  'Category': 'Ration',\n",
       "  'Product Popularity': 10},\n",
       " '125': {'Name': 'Pulses',\n",
       "  'Price': 60,\n",
       "  'Quantity': 30,\n",
       "  'Category': 'Ration',\n",
       "  'Product Popularity': 8},\n",
       " '126': {'Name': 'Coffee',\n",
       "  'Price': 150,\n",
       "  'Quantity': 25,\n",
       "  'Category': 'Essentials',\n",
       "  'Product Popularity': 9},\n",
       " '127': {'Name': 'Tea Leaves',\n",
       "  'Price': 150,\n",
       "  'Quantity': 40,\n",
       "  'Category': 'Essentials',\n",
       "  'Product Popularity': 9},\n",
       " '128': {'Name': 'Honey',\n",
       "  'Price': 100,\n",
       "  'Quantity': 10,\n",
       "  'Category': 'Essentials',\n",
       "  'Product Popularity': 7},\n",
       " '129': {'Name': 'Pencil',\n",
       "  'Price': 40,\n",
       "  'Quantity': 10,\n",
       "  'Category': 'Stationary',\n",
       "  'Product Popularity': 6},\n",
       " '130': {'Name': 'Eraser',\n",
       "  'Price': 5,\n",
       "  'Quantity': 10,\n",
       "  'Category': 'Stationary',\n",
       "  'Product Popularity': 6},\n",
       " '131': {'Name': 'Oregano',\n",
       "  'Price': 70,\n",
       "  'Quantity': 10,\n",
       "  'Category': 'Essentials',\n",
       "  'Product Popularity': 8}}"
      ]
     },
     "execution_count": 9,
     "metadata": {},
     "output_type": "execute_result"
    }
   ],
   "source": [
    "inv"
   ]
  },
  {
   "cell_type": "markdown",
   "metadata": {},
   "source": [
    "## Purchasing Products"
   ]
  },
  {
   "cell_type": "code",
   "execution_count": 51,
   "metadata": {},
   "outputs": [
    {
     "name": "stdout",
     "output_type": "stream",
     "text": [
      "Enter the number of items to buy:2\n",
      "Enter the Product id: 121\n",
      "Enter the Quantity: 1\n",
      "Product Name:  Notebook\n",
      "Unit Price:  60\n",
      "-----------------------\n",
      "Enter the Product id: 122\n",
      "Enter the Quantity: 1\n",
      "Product Name:  Pen\n",
      "Unit Price:  10\n",
      "-----------------------\n",
      "-----------------------\n",
      "Total Amount =  70\n"
     ]
    }
   ],
   "source": [
    "num=int(input(\"Enter the number of items to buy:\"))\n",
    "sale={}\n",
    "tamount=0\n",
    "for i in range(1,num+1):\n",
    "    \n",
    "    u_prod=str(input(\"Enter the Product id: \"))\n",
    "    u_quant=int(input(\"Enter the Quantity: \"))\n",
    "\n",
    "    if(u_prod in inv):\n",
    "        print(\"Product Name: \", inv[u_prod]['Name'])\n",
    "        print(\"Unit Price: \", inv[u_prod]['Price'])\n",
    "        print(\"-----------------------\")\n",
    "        if(inv[u_prod]['Quantity']<u_quant):\n",
    "            print(\"Quantiy not available!\")\n",
    "        else:\n",
    "            tamount += inv[u_prod]['Price'] * u_quant\n",
    "\n",
    "        inv[u_prod]['Quantity'] = inv[u_prod]['Quantity'] - u_quant\n",
    "    else:\n",
    "        print(\"Invalid Product id!\")\n",
    "    \n",
    "    \n",
    "    #Writing the data into inventory\n",
    "    js = json.dumps(inv)\n",
    "    fd = open(\"Inventory.json\",'w')\n",
    "    fd.write(js)\n",
    "    fd.close()\n",
    "    \n",
    "    sale[len(sale)+1]={'Name' : u_prod, 'Quantity' : u_quant, 'Amount': inv[u_prod]['Price'] * u_quant}\n",
    "print(\"-----------------------\")\n",
    "print(\"Total Amount = \",tamount)"
   ]
  },
  {
   "cell_type": "markdown",
   "metadata": {},
   "source": [
    "## Overall Sales"
   ]
  },
  {
   "cell_type": "code",
   "execution_count": 54,
   "metadata": {},
   "outputs": [
    {
     "name": "stdout",
     "output_type": "stream",
     "text": [
      "Overall Sale:\n"
     ]
    },
    {
     "data": {
      "text/plain": [
       "{1: {'Name': '121', 'Quantity': 1, 'Amount': 60},\n",
       " 2: {'Name': '122', 'Quantity': 1, 'Amount': 10}}"
      ]
     },
     "execution_count": 54,
     "metadata": {},
     "output_type": "execute_result"
    }
   ],
   "source": [
    "z = json.dumps(sales)\n",
    "fd = open(\"Sales.json\",'w')\n",
    "fd.write(z)\n",
    "fd.close()\n",
    "\n",
    "print(\"Overall Sale:\")\n",
    "sale"
   ]
  }
 ],
 "metadata": {
  "kernelspec": {
   "display_name": "Python 3",
   "language": "python",
   "name": "python3"
  },
  "language_info": {
   "codemirror_mode": {
    "name": "ipython",
    "version": 3
   },
   "file_extension": ".py",
   "mimetype": "text/x-python",
   "name": "python",
   "nbconvert_exporter": "python",
   "pygments_lexer": "ipython3",
   "version": "3.7.4"
  }
 },
 "nbformat": 4,
 "nbformat_minor": 2
}
